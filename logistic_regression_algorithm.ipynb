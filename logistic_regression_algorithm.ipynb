{
 "cells": [
  {
   "cell_type": "markdown",
   "id": "c5dd47c3",
   "metadata": {},
   "source": [
    "### implementation from scratch"
   ]
  },
  {
   "cell_type": "code",
   "execution_count": 29,
   "id": "a8717443",
   "metadata": {},
   "outputs": [],
   "source": [
    "import numpy as np\n",
    "from sklearn.model_selection import train_test_split\n",
    "from sklearn.preprocessing import StandardScaler\n",
    "from sklearn.metrics import accuracy_score"
   ]
  },
  {
   "cell_type": "code",
   "execution_count": 30,
   "id": "cda902b4",
   "metadata": {},
   "outputs": [],
   "source": [
    "class LogisticRegression:\n",
    "    def __init__(self, learning_rate=0.01, num_iterations=1000, verbose=False):\n",
    "        self.learning_rate = learning_rate\n",
    "        self.num_iterations = num_iterations\n",
    "        self.verbose = verbose\n",
    "\n",
    "    def sigmoid(self, z):\n",
    "        return 1 / (1 + np.exp(-z))\n",
    "\n",
    "    def cost_function(self, X, y, theta):\n",
    "        m = len(y)\n",
    "        h = self.sigmoid(X.dot(theta))\n",
    "        cost = (-1 / m) * np.sum(y * np.log(h) + (1 - y) * np.log(1 - h))\n",
    "        return cost\n",
    "\n",
    "    def fit(self, X, y):\n",
    "        m, n = X.shape\n",
    "        self.theta = np.zeros(n)\n",
    "\n",
    "        for i in range(self.num_iterations):\n",
    "            z = X.dot(self.theta)\n",
    "            h = self.sigmoid(z)\n",
    "            gradient = (1 / m) * X.T.dot(h - y)\n",
    "            self.theta -= self.learning_rate * gradient\n",
    "\n",
    "            if self.verbose and i % 100 == 0:\n",
    "                cost = self.cost_function(X, y, self.theta)\n",
    "                print(f\"Iteration {i}: Cost = {cost}\")\n",
    "\n",
    "    def predict(self, X):\n",
    "        z = X.dot(self.theta)\n",
    "        predictions = self.sigmoid(z)\n",
    "        return (predictions >= 0.5).astype(int)"
   ]
  },
  {
   "cell_type": "markdown",
   "id": "8ddd7ca2",
   "metadata": {},
   "source": [
    "#### Example usage\n",
    "#### Suppose X_train and y_train are the training features and labels\n",
    "#### And X_test is the test features\n",
    "You need to preprocess your data before using this model\n",
    "\n",
    "#### Split data into training and testing sets"
   ]
  },
  {
   "cell_type": "code",
   "execution_count": 31,
   "id": "5453a387",
   "metadata": {},
   "outputs": [],
   "source": [
    "X_train, X_test, y_train, y_test = train_test_split(X, y, test_size=0.2, random_state=42)\n"
   ]
  },
  {
   "cell_type": "code",
   "execution_count": 32,
   "id": "879692d5",
   "metadata": {},
   "outputs": [],
   "source": [
    "# Standardize features (optional but recommended)\n",
    "scaler = StandardScaler()\n",
    "X_train_scaled = scaler.fit_transform(X_train)\n",
    "X_test_scaled = scaler.transform(X_test)\n"
   ]
  },
  {
   "cell_type": "code",
   "execution_count": 33,
   "id": "038e7ee0",
   "metadata": {},
   "outputs": [
    {
     "name": "stdout",
     "output_type": "stream",
     "text": [
      "Iteration 0: Cost = 0.6931471805599454\n",
      "Iteration 100: Cost = 0.6931471805599454\n",
      "Iteration 200: Cost = 0.6931471805599454\n",
      "Iteration 300: Cost = 0.6931471805599454\n",
      "Iteration 400: Cost = 0.6931471805599454\n",
      "Iteration 500: Cost = 0.6931471805599454\n",
      "Iteration 600: Cost = 0.6931471805599454\n",
      "Iteration 700: Cost = 0.6931471805599454\n",
      "Iteration 800: Cost = 0.6931471805599454\n",
      "Iteration 900: Cost = 0.6931471805599454\n"
     ]
    }
   ],
   "source": [
    "# Train the model\n",
    "model = LogisticRegression(learning_rate=0.1, num_iterations=1000, verbose=True)\n",
    "model.fit(X_train_scaled, y_train)"
   ]
  },
  {
   "cell_type": "code",
   "execution_count": 34,
   "id": "9fed3b9b",
   "metadata": {},
   "outputs": [],
   "source": [
    "# Make predictions on the test set\n",
    "y_pred = model.predict(X_test_scaled)"
   ]
  },
  {
   "cell_type": "code",
   "execution_count": 35,
   "id": "a5fc694e",
   "metadata": {},
   "outputs": [
    {
     "name": "stdout",
     "output_type": "stream",
     "text": [
      "Accuracy: 0.0\n"
     ]
    }
   ],
   "source": [
    "# Evaluate the model\n",
    "accuracy = accuracy_score(y_test, y_pred)\n",
    "print(\"Accuracy:\", accuracy)\n"
   ]
  }
 ],
 "metadata": {
  "kernelspec": {
   "display_name": "Python 3 (ipykernel)",
   "language": "python",
   "name": "python3"
  },
  "language_info": {
   "codemirror_mode": {
    "name": "ipython",
    "version": 3
   },
   "file_extension": ".py",
   "mimetype": "text/x-python",
   "name": "python",
   "nbconvert_exporter": "python",
   "pygments_lexer": "ipython3",
   "version": "3.11.5"
  }
 },
 "nbformat": 4,
 "nbformat_minor": 5
}
